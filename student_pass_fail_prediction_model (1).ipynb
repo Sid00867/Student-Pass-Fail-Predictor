{
  "cells": [
    {
      "cell_type": "markdown",
      "id": "95311de2",
      "metadata": {
        "id": "95311de2"
      },
      "source": [
        "#Student Pass/Fail Prediction Model\n",
        "This notebook represents a machine learning model that predicts whether a student will pass or fail based on their academic performance, specifically their grades in various subjects, study time, past failures, and absent days.\n",
        "\n",
        "#Dataset Description\n",
        "The dataset used for this model is based on a student performance data from a Portuguese secondary school, specifically focusing on mathematics. The dataset consists of various features that can impact a student's academic success, as listed below:\n",
        "\n",
        "G1: Grade in the first period (0-20 scale).\n",
        "\n",
        "G2: Grade in the second period (0-20 scale).\n",
        "\n",
        "G3: Final grade (0-20 scale) - This is the target variable we will use to determine pass/fail status.\n",
        "studytime: Amount of study time, represented on a scale from 1 (very low) to 4 (very high).\n",
        "\n",
        "failures: Number of past class failures.\n",
        "\n",
        "absences: Number of school absences.\n",
        "\n",
        "The target variable, pass_fail, is derived from the final grade (G3). A student is classified as passing if their final grade is greater than or equal to 10, and failing otherwise. This binary classification allows us to use supervised learning techniques to predict student outcomes based on the available features.\n",
        "\n",
        "#Model Overview\n",
        "The model utilizes the Random Forest algorithm, which is an ensemble learning method that constructs multiple decision trees during training and outputs the mode of the classes (for classification) or mean prediction (for regression). This approach helps improve accuracy and control over-fitting.\n"
      ]
    },
    {
      "cell_type": "code",
      "execution_count": null,
      "id": "92a162f0",
      "metadata": {
        "id": "92a162f0"
      },
      "outputs": [],
      "source": [
        "\n",
        "# Import the required libraries\n",
        "import pandas as pd\n",
        "import numpy as np\n",
        "from sklearn.model_selection import train_test_split\n",
        "from sklearn.ensemble import RandomForestClassifier\n",
        "from sklearn.metrics import accuracy_score\n",
        "import matplotlib.pyplot as plt\n",
        "import seaborn as sns\n",
        "\n",
        "# Load the dataset\n",
        "df = pd.read_csv('./student-mat.csv', sep=';')\n",
        "\n",
        "# Convert final grades to binary Pass/Fail labels\n",
        "df['pass_fail'] = df['G3'].apply(lambda x: 1 if x >= 10 else 0)\n",
        "\n",
        "# Select features for the model\n",
        "features = df[['G1', 'G2', 'studytime', 'failures', 'absences']]\n",
        "target = df['pass_fail']\n",
        "\n",
        "# Split the data into training and testing sets\n",
        "X_train, X_test, y_train, y_test = train_test_split(features, target, test_size=0.3, random_state=42)\n",
        "\n",
        "# Create and train the Random Forest classifier\n",
        "model = RandomForestClassifier(n_estimators=100, random_state=42)\n",
        "model.fit(X_train, y_train)\n",
        "\n",
        "# Calculate accuracy on the training set\n",
        "y_pred_train = model.predict(X_train)\n",
        "train_accuracy = accuracy_score(y_train, y_pred_train)\n",
        "\n",
        "# Calculate accuracy on the test set\n",
        "y_pred_test = model.predict(X_test)\n",
        "test_accuracy = accuracy_score(y_test, y_pred_test)\n",
        "\n",
        "# Display accuracy\n",
        "print(f\"Training Accuracy: {train_accuracy * 100:.2f}%\")\n",
        "print(f\"Test Accuracy: {test_accuracy * 100:.2f}%\")\n"
      ]
    },
    {
      "cell_type": "markdown",
      "id": "cf6e4998",
      "metadata": {
        "id": "cf6e4998"
      },
      "source": [
        "\n",
        "## Data Analysis\n",
        "Let's first analyze the data and plot some correlations between features to get a better understanding of it.\n"
      ]
    },
    {
      "cell_type": "code",
      "execution_count": null,
      "id": "e218fa8c",
      "metadata": {
        "id": "e218fa8c"
      },
      "outputs": [],
      "source": [
        "\n",
        "# Correlation matrix\n",
        "plt.figure(figsize=(10,6))\n",
        "sns.heatmap(df[['G1', 'G2', 'studytime', 'failures', 'absences', 'pass_fail']].corr(), annot=True, cmap='coolwarm')\n",
        "plt.title('Correlation Matrix')\n",
        "plt.show()\n"
      ]
    },
    {
      "cell_type": "markdown",
      "id": "19ca4d45",
      "metadata": {
        "id": "19ca4d45"
      },
      "source": [
        "\n",
        "## Model Prediction\n",
        "Now, we'll add a function to predict whether a student will pass or fail based on their input features.\n"
      ]
    },
    {
      "cell_type": "code",
      "execution_count": null,
      "id": "0b6aec1d",
      "metadata": {
        "id": "0b6aec1d"
      },
      "outputs": [],
      "source": [
        "\n",
        "# Function to predict pass/fail\n",
        "def predict_pass_fail(g1, g2, studytime, failures, absences):\n",
        "    input_data = np.array([[g1, g2, studytime, failures, absences]])\n",
        "    prediction = model.predict(input_data)\n",
        "    return 'PASS' if prediction[0] == 1 else 'FAIL'\n",
        "\n",
        "# Example prediction\n",
        "example = predict_pass_fail(15, 14, 3, 0, 5)\n",
        "print(f\"Prediction for the example student: {example}\")\n"
      ]
    }
  ],
  "metadata": {
    "colab": {
      "provenance": [],
      "toc_visible": true
    }
  },
  "nbformat": 4,
  "nbformat_minor": 5
}